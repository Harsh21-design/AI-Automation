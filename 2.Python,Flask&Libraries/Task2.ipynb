{
 "cells": [
  {
   "cell_type": "code",
   "execution_count": 2,
   "id": "66895845",
   "metadata": {},
   "outputs": [],
   "source": [
    "import numpy as np\n",
    "import pandas as pd"
   ]
  },
  {
   "cell_type": "code",
   "execution_count": 35,
   "id": "debe003d",
   "metadata": {},
   "outputs": [
    {
     "data": {
      "text/plain": [
       "array([[ 1,  8,  3],\n",
       "       [ 9,  2,  7],\n",
       "       [ 4, 10,  5]])"
      ]
     },
     "execution_count": 35,
     "metadata": {},
     "output_type": "execute_result"
    }
   ],
   "source": [
    "data = np.array([[1,8,3],[9,2,7],[4,10,5]])\n",
    "data"
   ]
  },
  {
   "cell_type": "code",
   "execution_count": 36,
   "id": "b50c7e81",
   "metadata": {},
   "outputs": [
    {
     "name": "stdout",
     "output_type": "stream",
     "text": [
      "Sum: 49\n",
      "Mean: 5.444444444444445\n",
      "Max: 10\n",
      "Min: 1\n",
      "Median: 5.0\n",
      "Sorted: [[ 1  3  8]\n",
      " [ 2  7  9]\n",
      " [ 4  5 10]]\n"
     ]
    }
   ],
   "source": [
    "print(\"Sum:\",np.sum(data))\n",
    "print(\"Mean:\",np.mean(data))\n",
    "print(\"Max:\",np.max(data))\n",
    "print(\"Min:\",np.min(data))\n",
    "print(\"Median:\",np.median(data))\n",
    "print(\"Sorted:\",np.sort(data))"
   ]
  },
  {
   "cell_type": "code",
   "execution_count": 44,
   "id": "7381393f",
   "metadata": {},
   "outputs": [],
   "source": [
    "data1 = np.array([[1,2,3],[4,5,6],[1,2,3]])"
   ]
  },
  {
   "cell_type": "code",
   "execution_count": 62,
   "id": "dfb30803",
   "metadata": {},
   "outputs": [
    {
     "name": "stdout",
     "output_type": "stream",
     "text": [
      "Concatenate number arrays: [[ 1  8  3  1  2  3]\n",
      " [ 9  2  7  4  5  6]\n",
      " [ 4 10  5  1  2  3]]\n"
     ]
    }
   ],
   "source": [
    "#Concate (left to right)\n",
    "data2 = np.concatenate((data,data1),axis=1)\n",
    "print(\"Concatenate number arrays:\",data2)"
   ]
  },
  {
   "cell_type": "code",
   "execution_count": 54,
   "id": "6a37d515",
   "metadata": {},
   "outputs": [
    {
     "data": {
      "text/plain": [
       "array(['Papaya', 'Apple', 'Mango', 'Banana'], dtype='<U6')"
      ]
     },
     "execution_count": 54,
     "metadata": {},
     "output_type": "execute_result"
    }
   ],
   "source": [
    "mystring = np.array([\"Papaya\",\"Apple\",\"Mango\",\"Banana\"])\n",
    "mystring"
   ]
  },
  {
   "cell_type": "code",
   "execution_count": 65,
   "id": "6d2c0b28",
   "metadata": {},
   "outputs": [
    {
     "name": "stdout",
     "output_type": "stream",
     "text": [
      "Appending: ['Papaya' 'Apple' 'Mango' 'Banana' 'Guava' 'Grapes']\n",
      "Alphabetical sorting: ['Apple' 'Banana' 'Mango' 'Papaya']\n",
      "Spliting fruits: ['Apple', 'Chiku', 'Orange']\n",
      "Adding 1: ['Papaya-1' 'Apple-1' 'Mango-1' 'Banana-1']\n",
      "Inserting Orange at 0th indexing: ['Orange' 'Papaya' 'Apple' 'Mango' 'Banana']\n"
     ]
    }
   ],
   "source": [
    "print(\"Appending:\",np.append(mystring,[\"Guava\",\"Grapes\"]))\n",
    "print(\"Alphabetical sorting:\",np.sort(mystring))\n",
    "print(\"Spliting fruits:\",np.char.split(\"Apple Chiku Orange\"))\n",
    "print(\"Adding 1:\",np.char.add(mystring,\"-1\"))\n",
    "print(\"Inserting Orange at 0th indexing:\",np.insert(mystring,0,\"Orange\"))"
   ]
  }
 ],
 "metadata": {
  "kernelspec": {
   "display_name": "Python 3",
   "language": "python",
   "name": "python3"
  },
  "language_info": {
   "codemirror_mode": {
    "name": "ipython",
    "version": 3
   },
   "file_extension": ".py",
   "mimetype": "text/x-python",
   "name": "python",
   "nbconvert_exporter": "python",
   "pygments_lexer": "ipython3",
   "version": "3.12.0"
  }
 },
 "nbformat": 4,
 "nbformat_minor": 5
}
